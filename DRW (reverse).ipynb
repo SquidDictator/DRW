{
 "cells": [
  {
   "cell_type": "markdown",
   "id": "a590e7a4",
   "metadata": {},
   "source": [
    "# 📘 LightGBM Binary Classification Pipeline"
   ]
  },
  {
   "cell_type": "code",
   "execution_count": 7,
   "id": "03748371",
   "metadata": {},
   "outputs": [],
   "source": [
    "import pandas as pd\n",
    "import numpy as np\n",
    "from sklearn.linear_model import LinearRegression\n",
    "from sklearn.metrics import r2_score\n",
    "from scipy.stats import pearsonr\n",
    "from xgboost import XGBRegressor\n",
    "from lightgbm import LGBMRegressor\n",
    "from sklearn.ensemble import StackingRegressor\n",
    "import matplotlib.pyplot as plt\n"
   ]
  },
  {
   "cell_type": "code",
   "execution_count": 8,
   "id": "eeeef954",
   "metadata": {},
   "outputs": [],
   "source": [
    "train = pd.read_parquet('train.parquet')\n",
    "test = pd.read_parquet('test.parquet')\n",
    "sample_submission = pd.read_csv('sample_submission.csv')\n",
    "train_sorted = train.sort_values(proxy_col).reset_index(drop=True)\n",
    "test_sorted = test.sort_values(proxy_col).reset_index(drop=True)\n"
   ]
  },
  {
   "cell_type": "code",
   "execution_count": 9,
   "id": "2f2abd88",
   "metadata": {},
   "outputs": [],
   "source": [
    "\n",
    "for lag in [1, 2, 3, 5, 10]:\n",
    "    train_sorted[f'label_lag{lag}'] = train_sorted['label'].shift(lag).fillna(0)\n",
    "    train_sorted[f'{proxy_col}_lag{lag}'] = train_sorted[proxy_col].shift(lag).fillna(0)\n",
    "    test_sorted[f'{proxy_col}_lag{lag}'] = test_sorted[proxy_col].shift(lag).fillna(0)\n",
    "    # For label_lag, only fill test with zero (unless doing iterative prediction hack)\n",
    "    test_sorted[f'label_lag{lag}'] = 0\n",
    "\n",
    "# Drop any non-feature columns\n",
    "drop_cols = ['label', 'ID', 'id']\n",
    "X_train = train_sorted.drop(drop_cols, axis=1, errors='ignore')\n",
    "y_train = train_sorted['label']\n",
    "X_test = test_sorted.drop(drop_cols, axis=1, errors='ignore')"
   ]
  },
  {
   "cell_type": "code",
   "execution_count": 10,
   "id": "81875802",
   "metadata": {},
   "outputs": [
    {
     "name": "stdout",
     "output_type": "stream",
     "text": [
      "Submission saved!\n"
     ]
    }
   ],
   "source": [
    "X_test = X_test[X_train.columns]\n",
    "\n",
    "# KFold as before\n",
    "from sklearn.model_selection import KFold\n",
    "import numpy as np\n",
    "from xgboost import XGBRegressor\n",
    "\n",
    "kf = KFold(n_splits=5)\n",
    "oof = np.zeros(len(X_train))\n",
    "test_preds = np.zeros(len(X_test))\n",
    "\n",
    "for train_idx, val_idx in kf.split(X_train):\n",
    "    X_tr, X_val = X_train.iloc[train_idx], X_train.iloc[val_idx]\n",
    "    y_tr, y_val = y_train.iloc[train_idx], y_train.iloc[val_idx]\n",
    "    model = XGBRegressor(n_estimators=200, max_depth=6)\n",
    "    model.fit(X_tr, y_tr)\n",
    "    oof[val_idx] = model.predict(X_val)\n",
    "    test_preds += model.predict(X_test) / kf.n_splits\n",
    "\n",
    "# Submission\n",
    "sample_submission = pd.read_csv('sample_submission.csv')\n",
    "sample_submission['prediction'] = test_preds\n",
    "sample_submission.to_csv('submission.csv', index=False)\n",
    "print('Submission saved!')"
   ]
  },
  {
   "cell_type": "code",
   "execution_count": 11,
   "id": "e360ad3d",
   "metadata": {},
   "outputs": [
    {
     "name": "stdout",
     "output_type": "stream",
     "text": [
      "OOF Score: 0.11703450904692425\n"
     ]
    }
   ],
   "source": [
    "sample_submission = pd.read_csv('sample_submission.csv')\n",
    "sample_submission['prediction'] = test_preds\n",
    "sample_submission.to_csv('submission.csv', index=False)\n",
    "\n",
    "from scipy.stats import pearsonr\n",
    "score = pearsonr(train_sorted['label'], oof)[0]\n",
    "print(\"OOF Score:\", score)\n"
   ]
  }
 ],
 "metadata": {
  "kernelspec": {
   "display_name": "Python 3",
   "language": "python",
   "name": "python3"
  },
  "language_info": {
   "codemirror_mode": {
    "name": "ipython",
    "version": 3
   },
   "file_extension": ".py",
   "mimetype": "text/x-python",
   "name": "python",
   "nbconvert_exporter": "python",
   "pygments_lexer": "ipython3",
   "version": "3.10.2"
  }
 },
 "nbformat": 4,
 "nbformat_minor": 5
}
